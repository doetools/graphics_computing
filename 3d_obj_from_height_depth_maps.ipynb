{
  "nbformat": 4,
  "nbformat_minor": 0,
  "metadata": {
    "colab": {
      "provenance": [],
      "authorship_tag": "ABX9TyN0kbnux8odq+Mds9GymD3n",
      "include_colab_link": true
    },
    "kernelspec": {
      "name": "python3",
      "display_name": "Python 3"
    },
    "language_info": {
      "name": "python"
    }
  },
  "cells": [
    {
      "cell_type": "markdown",
      "metadata": {
        "id": "view-in-github",
        "colab_type": "text"
      },
      "source": [
        "<a href=\"https://colab.research.google.com/github/doetools/graphics_computing/blob/3d/3d_obj_from_height_depth_maps.ipynb\" target=\"_parent\"><img src=\"https://colab.research.google.com/assets/colab-badge.svg\" alt=\"Open In Colab\"/></a>"
      ]
    },
    {
      "cell_type": "code",
      "execution_count": null,
      "metadata": {
        "id": "yrj54YIwh5Jq"
      },
      "outputs": [],
      "source": [
        "!pip install pyopencl\n",
        "!pip install pycuda"
      ]
    },
    {
      "cell_type": "code",
      "source": [
        "import pyopencl\n",
        "import pycuda"
      ],
      "metadata": {
        "id": "lVXOLpiph7Uj"
      },
      "execution_count": 7,
      "outputs": []
    },
    {
      "cell_type": "code",
      "source": [],
      "metadata": {
        "id": "F4LDZti-iGKT"
      },
      "execution_count": null,
      "outputs": []
    }
  ]
}